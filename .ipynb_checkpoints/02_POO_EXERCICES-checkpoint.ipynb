{
 "cells": [
  {
   "cell_type": "markdown",
   "metadata": {},
   "source": [
    "# class"
   ]
  },
  {
   "cell_type": "markdown",
   "metadata": {},
   "source": [
    "##### Partie 3"
   ]
  },
  {
   "cell_type": "markdown",
   "metadata": {},
   "source": [
    "Utilisé l'héritage faites en sorte que moto et voiture herite tout deux   \n",
    "d'une classe nommée vehicule.  \n",
    "elle auront en communs comme attributs:\n",
    "- etat\n",
    "- marque\n",
    "- couleur\n",
    "- année\n",
    "- km"
   ]
  },
  {
   "cell_type": "markdown",
   "metadata": {},
   "source": [
    "elle auront de different pour les deux :\n",
    "- le type (moto, voiture)\n",
    "- le nombre_roue\n",
    "- le nombre_de passsagers\n",
    "- ajouter un passager de la classe Humain"
   ]
  },
  {
   "cell_type": "markdown",
   "metadata": {},
   "source": [
    "la moto aura de facon exclusive :\n",
    "- attaché (true , false)\n",
    "- cabrer (action comme rouler , mais a une chance sur 10 de faire un accident )"
   ]
  },
  {
   "cell_type": "markdown",
   "metadata": {},
   "source": [
    "la voiture auras de facon exclusive \n",
    "- parcmètre_credit\n",
    "- use_credit"
   ]
  },
  {
   "cell_type": "markdown",
   "metadata": {},
   "source": [
    "la classe vehicule auras de particulier qu'elle comptera le nombre d'instance qu'elle a creer"
   ]
  },
  {
   "cell_type": "code",
   "execution_count": 62,
   "metadata": {},
   "outputs": [],
   "source": []
  },
  {
   "cell_type": "markdown",
   "metadata": {},
   "source": [
    "grace au property faites en sorte que (et au setter ...)\n",
    "- parcmètre_credit ne tombe jamais en dessous de 0\n",
    "- que cabrer ai une chance sur 10 de declencher un accident\n",
    "- le nombre_de passsagers ne puissent depasser 2 pour la moto et 5 pour la voiture\n",
    "- et d'avoir un avertissement si on ne detache pas la moto avant de la demarer"
   ]
  },
  {
   "cell_type": "code",
   "execution_count": 67,
   "metadata": {},
   "outputs": [],
   "source": []
  },
  {
   "cell_type": "markdown",
   "metadata": {},
   "source": [
    "partant de ce principe proposer un setter, un getter, et delleter sur une ou plusieurs des classes utiliser j'usqua present"
   ]
  },
  {
   "cell_type": "code",
   "execution_count": null,
   "metadata": {},
   "outputs": [],
   "source": []
  }
 ],
 "metadata": {
  "kernelspec": {
   "display_name": "Python 3",
   "language": "python",
   "name": "python3"
  },
  "language_info": {
   "codemirror_mode": {
    "name": "ipython",
    "version": 3
   },
   "file_extension": ".py",
   "mimetype": "text/x-python",
   "name": "python",
   "nbconvert_exporter": "python",
   "pygments_lexer": "ipython3",
   "version": "3.8.6"
  },
  "varInspector": {
   "cols": {
    "lenName": 16,
    "lenType": 16,
    "lenVar": 40
   },
   "kernels_config": {
    "python": {
     "delete_cmd_postfix": "",
     "delete_cmd_prefix": "del ",
     "library": "var_list.py",
     "varRefreshCmd": "print(var_dic_list())"
    },
    "r": {
     "delete_cmd_postfix": ") ",
     "delete_cmd_prefix": "rm(",
     "library": "var_list.r",
     "varRefreshCmd": "cat(var_dic_list()) "
    }
   },
   "types_to_exclude": [
    "module",
    "function",
    "builtin_function_or_method",
    "instance",
    "_Feature"
   ],
   "window_display": false
  }
 },
 "nbformat": 4,
 "nbformat_minor": 2
}
