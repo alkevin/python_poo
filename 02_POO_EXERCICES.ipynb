{
 "cells": [
  {
   "cell_type": "markdown",
   "metadata": {},
   "source": [
    "# class"
   ]
  },
  {
   "cell_type": "markdown",
   "metadata": {},
   "source": [
    "##### Partie 3"
   ]
  },
  {
   "cell_type": "markdown",
   "metadata": {},
   "source": [
    "Utilisé l'héritage faites en sorte que moto et voiture herite tout deux   \n",
    "d'une classe nommée vehicule.  \n",
    "elle auront en communs comme attributs:\n",
    "- etat\n",
    "- marque\n",
    "- couleur\n",
    "- année\n",
    "- km"
   ]
  },
  {
   "cell_type": "markdown",
   "metadata": {},
   "source": [
    "elle auront de different pour les deux :\n",
    "- le type (moto, voiture)\n",
    "- le nombre_roue\n",
    "- le nombre_de passsagers\n",
    "- ajouter un passager de la classe Humain"
   ]
  },
  {
   "cell_type": "markdown",
   "metadata": {},
   "source": [
    "la moto aura de facon exclusive :\n",
    "- attaché (true , false)\n",
    "- cabrer (action comme rouler , mais a une chance sur 10 de faire un accident )"
   ]
  },
  {
   "cell_type": "markdown",
   "metadata": {},
   "source": [
    "la voiture auras de facon exclusive \n",
    "- parcmètre_credit\n",
    "- use_credit"
   ]
  },
  {
   "cell_type": "markdown",
   "metadata": {},
   "source": [
    "la classe vehicule auras de particulier qu'elle comptera le nombre d'instance qu'elle a creer"
   ]
  },
  {
   "cell_type": "code",
   "execution_count": 349,
   "metadata": {},
   "outputs": [],
   "source": [
    "from datetime import datetime\n",
    "import random\n",
    "\n",
    "class Vehicule:\n",
    "    def __init__(self, marque, couleur, categorie, nombre_roue, nombre_passager, km = 0):\n",
    "        self.marque = marque\n",
    "        self.couleur = couleur\n",
    "        self.année = datetime.now().year\n",
    "        self.etat = False\n",
    "        self.km = km\n",
    "        self.nombre_roue = nombre_roue\n",
    "        self.type = categorie\n",
    "        self.nombre_passager = nombre_passager\n",
    "    \n",
    "    @staticmethod\n",
    "    def passager(categorie, nombre_passager):\n",
    "        if categorie == \"moto\":\n",
    "            if nombre_passager > 2 :\n",
    "                print(\"Nombre de passager incorrect. Le nombre de passager par défaut est a 2\" )\n",
    "                return 2\n",
    "            return nombre_passager\n",
    "        else:\n",
    "            if nombre_passager > 5 :\n",
    "                print(\"Nombre de passager incorrect. Le nombre de passager par défaut est a 5\" )\n",
    "                return 5\n",
    "            return nombre_passager\n",
    "    \n",
    "class Moto(Vehicule):\n",
    "    def __init__(self, marque, couleur, nombre_passager, km = 0):\n",
    "        #super().__init__(marque, couleur, km)\n",
    "        Vehicule.__init__(self, marque, couleur, \"moto\", 2, nombre_passager, km)\n",
    "        self.attache = False\n",
    "        self.cabrer = False\n",
    "        self.nombre_passager = Vehicule.passager(self.type, self.nombre_passager)\n",
    "        \n",
    "    def cabrer_moto(self):\n",
    "        if self.etat:\n",
    "            self.cabrer = True\n",
    "            accident = random.randint(1,10)\n",
    "            if accident == 10:\n",
    "                print(\"Vous avez fait un accident\")\n",
    "        else:\n",
    "            print(\"Vous devez d'abord démarrer la moto\")\n",
    "            \n",
    "    def demarrer_moto(self):\n",
    "        if self.attache:\n",
    "            print(\"Veuillez  détacher la moto\")\n",
    "        else :\n",
    "            self.etat = True\n",
    "            print(\"Vous avez démarré la moto\")\n",
    "                \n",
    "    \n",
    "    def __delete__(self):\n",
    "        print(\"Vous avez supprimé l'élément\")\n",
    "    \n",
    "    def get(self, indice):\n",
    "        try:\n",
    "            chaine = ''\n",
    "            for i in indice:\n",
    "                chaine += i + \" : \" + getattr(self, i) + \"\\n\"\n",
    "            return chaine\n",
    "        \n",
    "        except AttributeError:\n",
    "            print(\"Cet attribut n'existe pas dans la classe\")\n",
    "        \n",
    "class Voiture(Vehicule):\n",
    "    def __init__(self, marque, couleur, nombre_passager, parcmetre_credit, km = 0):\n",
    "        #super().__init__(marque, couleur, km)\n",
    "        Vehicule.__init__(self, marque, couleur, \"voiture\", 4, nombre_passager, km)\n",
    "        self.parcmetre_credit = parcmetre_credit\n",
    "        self.use_credit = None\n",
    "        self.nombre_passager = Vehicule.passager(self.type, self.nombre_passager)\n",
    "        \n",
    "    def parcmetre(self, credit):\n",
    "        if self.parcmetre_credit >= credit:\n",
    "            self.parcmetre_credit -= credit\n",
    "            print(\"Il vous reste : \" + str(self.parcmetre_credit))\n",
    "        else:\n",
    "            print(\"Vous n'avez pas assez de credit\")\n",
    "        \n"
   ]
  },
  {
   "cell_type": "markdown",
   "metadata": {},
   "source": [
    "grace au property faites en sorte que (et au setter ...)\n",
    "- parcmètre_credit ne tombe jamais en dessous de 0\n",
    "- que cabrer ai une chance sur 10 de declencher un accident\n",
    "- le nombre_de passsagers ne puissent depasser 2 pour la moto et 5 pour la voiture\n",
    "- et d'avoir un avertissement si on ne detache pas la moto avant de la demarer"
   ]
  },
  {
   "cell_type": "code",
   "execution_count": 355,
   "metadata": {},
   "outputs": [],
   "source": [
    "m = Moto(\"a\", \"b\", 2)\n",
    "del(m)"
   ]
  },
  {
   "cell_type": "markdown",
   "metadata": {},
   "source": [
    "partant de ce principe proposer un setter, un getter, et delleter sur une ou plusieurs des classes utiliser j'usqua present"
   ]
  },
  {
   "cell_type": "code",
   "execution_count": 236,
   "metadata": {},
   "outputs": [
    {
     "ename": "NameError",
     "evalue": "name 'm' is not defined",
     "output_type": "error",
     "traceback": [
      "\u001b[1;31m---------------------------------------------------------------------------\u001b[0m",
      "\u001b[1;31mNameError\u001b[0m                                 Traceback (most recent call last)",
      "\u001b[1;32m<ipython-input-236-547cfc3b64b1>\u001b[0m in \u001b[0;36m<module>\u001b[1;34m\u001b[0m\n\u001b[1;32m----> 1\u001b[1;33m \u001b[0mvars\u001b[0m\u001b[1;33m(\u001b[0m\u001b[0mm\u001b[0m\u001b[1;33m)\u001b[0m\u001b[1;33m\u001b[0m\u001b[1;33m\u001b[0m\u001b[0m\n\u001b[0m",
      "\u001b[1;31mNameError\u001b[0m: name 'm' is not defined"
     ]
    }
   ],
   "source": []
  }
 ],
 "metadata": {
  "kernelspec": {
   "display_name": "Python 3",
   "language": "python",
   "name": "python3"
  },
  "language_info": {
   "codemirror_mode": {
    "name": "ipython",
    "version": 3
   },
   "file_extension": ".py",
   "mimetype": "text/x-python",
   "name": "python",
   "nbconvert_exporter": "python",
   "pygments_lexer": "ipython3",
   "version": "3.8.6"
  },
  "varInspector": {
   "cols": {
    "lenName": 16,
    "lenType": 16,
    "lenVar": 40
   },
   "kernels_config": {
    "python": {
     "delete_cmd_postfix": "",
     "delete_cmd_prefix": "del ",
     "library": "var_list.py",
     "varRefreshCmd": "print(var_dic_list())"
    },
    "r": {
     "delete_cmd_postfix": ") ",
     "delete_cmd_prefix": "rm(",
     "library": "var_list.r",
     "varRefreshCmd": "cat(var_dic_list()) "
    }
   },
   "types_to_exclude": [
    "module",
    "function",
    "builtin_function_or_method",
    "instance",
    "_Feature"
   ],
   "window_display": false
  }
 },
 "nbformat": 4,
 "nbformat_minor": 2
}
