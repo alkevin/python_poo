{
 "cells": [
  {
   "cell_type": "markdown",
   "metadata": {},
   "source": [
    "# POO : les classes"
   ]
  },
  {
   "cell_type": "markdown",
   "metadata": {},
   "source": [
    "#### Introduction"
   ]
  },
  {
   "cell_type": "markdown",
   "metadata": {},
   "source": [
    "Python est un langage de programmation orienté objet.  \n",
    "On oppose souvent la programmation objet à la programmation procédurale , mais la première est plus \"professionnelle\" que l'autre car plus fiable et plus propre."
   ]
  },
  {
   "cell_type": "markdown",
   "metadata": {},
   "source": [
    "voici quelques liens qui traite du sujet\n",
    "- [openclassroom](https://openclassrooms.com/fr/courses/235344-apprenez-a-programmer-en-python/232721-apprehendez-les-classes)\n",
    "- [python doctor](https://python.doctor/page-apprendre-programmation-orientee-objet-poo-classes-python-cours-debutants)\n",
    "- [python doc](https://docs.python.org/fr/3/tutorial/classes.html)\n",
    "- [modeles de données](https://docs.python.org/3/reference/datamodel.html)"
   ]
  },
  {
   "cell_type": "markdown",
   "metadata": {},
   "source": [
    "Comme le dis la [convention](https://www.python.org/dev/peps/pep-0008/#class-names) python le nom des classes doit etre CapWords pour respecter la pep8"
   ]
  },
  {
   "cell_type": "markdown",
   "metadata": {},
   "source": [
    "#### Partie 1"
   ]
  },
  {
   "cell_type": "markdown",
   "metadata": {},
   "source": [
    " Créez une classe Voiture qui aura pour attributs :\n",
    " - marque\n",
    " - couleur\n",
    " - annee"
   ]
  },
  {
   "cell_type": "code",
   "execution_count": 33,
   "metadata": {},
   "outputs": [],
   "source": [
    "class Voiture:\n",
    "    \"\"\"Classe définissant les attributs d'une voiture par :\n",
    "    -sa marque\n",
    "    -sa couleur\n",
    "    -son année\"\"\"\n",
    "    \n",
    "    def __init__(self, marque, couleur):\n",
    "        self.marque = marque\n",
    "        self.couleur = couleur\n",
    "        self.annee = \"2020\"\n",
    "    \n",
    "    def __repr__(self):\n",
    "        return '{ marque :' + self.marque + ', couleur : ' + self.couleur + ', année : ' + self.annee + '}'"
   ]
  },
  {
   "cell_type": "markdown",
   "metadata": {},
   "source": [
    "Rajoutez deux attributs à cette classe : km et etat  \n",
    "- partant du principe que la voiture seras forcément éteinte à la création l'attribut etat sera false par défaut  \n",
    "- les km si ils ne sont pas spécifiés seront à 0  \n",
    "- faites en sorte que annee corresponde a l'année de la date réelle au moment de la création de l'objet\n",
    "- le reste des arguments devront continuer à être fournis obligatoirement"
   ]
  },
  {
   "cell_type": "code",
   "execution_count": 12,
   "metadata": {},
   "outputs": [],
   "source": [
    " def __init__(self, marque, couleur, km=0):\n",
    "        self.marque = marque\n",
    "        self.couleur = couleur\n",
    "        self.année = datetime.now().year\n",
    "        self.etat = False\n",
    "        self.km = km"
   ]
  },
  {
   "cell_type": "markdown",
   "metadata": {},
   "source": [
    "Créez des methodes pour la classe Voiture :\n",
    "- **demarer** :\n",
    "     qui change l'état de la voiture à True et renvoie un avertissement si elle est déjà démarrée.\n",
    "- **arreter** :\n",
    "    qui change l'état de voiture à False et renvoie un avertissement si elle est déjà éteinte.\n",
    "- **rouler** :\n",
    "    qui rajoute des kilomètres à l'attribut km si la voiture est démarée sinon renvoie un avertissement."
   ]
  },
  {
   "cell_type": "code",
   "execution_count": 3,
   "metadata": {},
   "outputs": [],
   "source": [
    "def demarrer(self):\n",
    "    if not self.etat:\n",
    "        self.etat = True\n",
    "    else:\n",
    "        print(\"La voiture est déja demarée\")\n",
    "\n",
    "def arreter(self):\n",
    "    if self.etat:\n",
    "        self.etat = False\n",
    "    else:\n",
    "        print(\"La voiture est déja arretée\")\n",
    "    \n",
    "def rouler(self, km):\n",
    "    if self.etat:\n",
    "        self.km += km\n",
    "    else\n",
    "        print(\"La voiture n'est pas démarée\")"
   ]
  },
  {
   "cell_type": "markdown",
   "metadata": {},
   "source": [
    " Créez une classe Humain, elle devra avoir comme attributs:\n",
    " - nom\n",
    " - age\n",
    " - voiture"
   ]
  },
  {
   "cell_type": "code",
   "execution_count": null,
   "metadata": {},
   "outputs": [],
   "source": [
    "class Humain:\n",
    "    def __init__(self, nom, age, voiture=None)\n",
    "        self.nom = nom\n",
    "        self.age = age\n",
    "        self.voiture = voiture"
   ]
  },
  {
   "cell_type": "markdown",
   "metadata": {},
   "source": [
    "et comme méthodes:\n",
    " - acquerir_voiture:\n",
    " pour acquerir une instance de voiture\n",
    " - demarrer_voiture\n",
    " il devra forcement posseder une voiture sinon un avertissement lui est renvoyé\n",
    " - arreter_voiture\n",
    " il devra forcement posseder une voiture sinon un avertissement lui est renvoyé"
   ]
  },
  {
   "cell_type": "code",
   "execution_count": null,
   "metadata": {},
   "outputs": [],
   "source": [
    "def acquerir_voitur(self, voiture):\n",
    "    self.voiture = voiture\n",
    "    \n",
    "def demarrer_voiture(self):\n",
    "    if self.voiture:\n",
    "        self.voiture.demarrer()\n",
    "    else:\n",
    "        print(\"vous n'avez pas de voiture\")\n",
    "        \n",
    "def arreter_voiture(self):\n",
    "    if self.voiture:\n",
    "        self.voiture.arreter()\n",
    "    else:\n",
    "        print(\"vous n'avez pas de voiture\")\n",
    "        "
   ]
  },
  {
   "cell_type": "markdown",
   "metadata": {},
   "source": [
    "Créez une classe Garage qui pourra contenir toutes les voitures d'un humain, elle devra avoir comme attributs:\n",
    "- proprietaire\n",
    "- vehicule\n",
    "- capacite"
   ]
  },
  {
   "cell_type": "code",
   "execution_count": 8,
   "metadata": {},
   "outputs": [],
   "source": [
    "class Garage:\n",
    "    def __init__(self, capacite, proprietaire=None):\n",
    "        self.capacite = capacite\n",
    "        self.proprietaire = proprietaire\n",
    "        self.vehicules = []\n",
    "        \n",
    "    def place_disponible(self):\n",
    "        #return True if len(self.vehicule) >= self.capacite else False\n",
    "        if self.capacite >= len(self.vehicules):\n",
    "            return True\n",
    "        else:\n",
    "            return False\n",
    "                "
   ]
  },
  {
   "cell_type": "code",
   "execution_count": 12,
   "metadata": {},
   "outputs": [
    {
     "data": {
      "text/plain": [
       "'clio'"
      ]
     },
     "execution_count": 12,
     "metadata": {},
     "output_type": "execute_result"
    }
   ],
   "source": [
    "G = Garage(3)\n",
    "G.vehicules.append(\"clio\")\n",
    "G.vehicules[0] "
   ]
  },
  {
   "cell_type": "markdown",
   "metadata": {},
   "source": [
    "et comme méthode \n",
    "- place_disponible\n",
    "qui devra retourner True si le garage dispose de places libres et False si il est plein"
   ]
  },
  {
   "cell_type": "code",
   "execution_count": 72,
   "metadata": {},
   "outputs": [],
   "source": []
  },
  {
   "cell_type": "markdown",
   "metadata": {},
   "source": [
    "Ajoutez à la classe Humain les méthodes :\n",
    "- acquerir_garage\n",
    "qui devra assigner le garage à l'humain et modifier l'attribut proprietaire du gararge\n",
    "- deposer_garage\n",
    "qui devra tester si l'humain a une voiture, un garage et de la place"
   ]
  },
  {
   "cell_type": "code",
   "execution_count": 15,
   "metadata": {},
   "outputs": [],
   "source": [
    "class Humain:\n",
    "    def __init__(self, nom, age, voiture=None):\n",
    "        self.nom = nom\n",
    "        self.age = age\n",
    "        self.voiture = voiture\n",
    "        self.garage = None\n",
    "    \n",
    "    def acquerir_garage(self, acquisition):\n",
    "        self.garage = acquisition\n",
    "        self.garage.proprietaire = self.nom\n",
    "    "
   ]
  },
  {
   "cell_type": "code",
   "execution_count": 17,
   "metadata": {},
   "outputs": [
    {
     "name": "stdout",
     "output_type": "stream",
     "text": [
      "Alex\n"
     ]
    }
   ],
   "source": [
    "h = Humain(\"Alex\", 35)\n",
    "g = Garage(2)\n",
    "\n",
    "h.acquerir_garage(g)\n",
    "print(h.garage.proprietaire)"
   ]
  },
  {
   "cell_type": "markdown",
   "metadata": {},
   "source": [
    "#### Partie 2"
   ]
  },
  {
   "cell_type": "markdown",
   "metadata": {},
   "source": [
    "Concentrons nous sur la classe Garage.  \n",
    "Ajoutez les [methodes speciales](https://docs.python.org/3/reference/datamodel.html#special-method-names) suivantes :\n",
    "- __repr__ : devra retourner le proprietaire, le nombre de voiture, la capacité\n",
    "- __add__ : devra permettre d'ajouter une voiture avec l'opérateur \"+\" tant que la capacité n'est pas dépassée\n",
    "- __len__ : devra renvoyer le nombre de voitures à l'aide de la fonction len() sur l'instance\n",
    "- __getitem__ : devra permettre de récupérer une voiture selon son index et de retourner un avertissement si il n'y a pas de véhicule\n",
    "- __setitem__ : devra permettre de remplacer une voiture à un emplacement si il existe, sinon un avertissement."
   ]
  },
  {
   "cell_type": "code",
   "execution_count": 80,
   "metadata": {},
   "outputs": [],
   "source": [
    "class Garage:\n",
    "    def __init__(self, capacite, proprietaire=None):\n",
    "        self.capacite = capacite\n",
    "        self.proprietaire = proprietaire\n",
    "        self.vehicules = [None for x in range(capacite - 1)]\n",
    "        \n",
    "    def place_disponible(self):\n",
    "        #return True if len(self.vehicule) >= self.capacite else False\n",
    "        if self.capacite >= len(self.vehicules):\n",
    "            return True\n",
    "        else:\n",
    "            return False\n",
    "        \n",
    "    def __repr__(self):\n",
    "        return '{proprietaire : ' + self.proprietaire + ', capacite : ' + self.capacite + ', vehicules : ' + self.vehicules + '}'\n",
    "    \n",
    "    def __add__(self, vehicule):\n",
    "        if self.place_disponible():\n",
    "            self.vehicules.append(vehicule)\n",
    "        else:\n",
    "            print(\"Plus de place disponible\")\n",
    "    \n",
    "    def addCar(self, vehicule):\n",
    "        if self.place_disponible():\n",
    "            self.vehicules.append(vehicule)\n",
    "        else:\n",
    "            print(\"Plus de place disponible\")\n",
    "    \n",
    "    def __len__(self):\n",
    "        #return len(self.vehicules)\n",
    "        return self.vehicules.__len__()\n",
    "    \n",
    "    def __getitem__(self, index):\n",
    "        if not self.vehicules:\n",
    "            print(\"Il n'y a pas de vehicules\")\n",
    "        elif index > self.__len__():\n",
    "            print(\"Il n'y a pas de vehicules\")\n",
    "        else :\n",
    "            return self.vehicules[index]\n",
    "        \n",
    "    def __setitem__(self, index, vehicule):\n",
    "        try:\n",
    "            self.vehicules[index] = vehicule\n",
    "        except IndexError:\n",
    "            print(\"index incorrect\")\n",
    "        "
   ]
  },
  {
   "cell_type": "code",
   "execution_count": 86,
   "metadata": {},
   "outputs": [
    {
     "name": "stdout",
     "output_type": "stream",
     "text": [
      "index incorrect\n"
     ]
    }
   ],
   "source": [
    "clio = Voiture(\"Renault\", \"Blanc\")\n",
    "\n",
    "g = Garage(3)\n",
    "#g+clio\n",
    "#g.addCar(clio)\n",
    "#g.__getitem__(0)\n",
    "#g[4]\n",
    "g[5] = 2\n",
    "\n"
   ]
  }
 ],
 "metadata": {
  "kernelspec": {
   "display_name": "Python 3",
   "language": "python",
   "name": "python3"
  },
  "language_info": {
   "codemirror_mode": {
    "name": "ipython",
    "version": 3
   },
   "file_extension": ".py",
   "mimetype": "text/x-python",
   "name": "python",
   "nbconvert_exporter": "python",
   "pygments_lexer": "ipython3",
   "version": "3.8.6"
  },
  "varInspector": {
   "cols": {
    "lenName": 16,
    "lenType": 16,
    "lenVar": 40
   },
   "kernels_config": {
    "python": {
     "delete_cmd_postfix": "",
     "delete_cmd_prefix": "del ",
     "library": "var_list.py",
     "varRefreshCmd": "print(var_dic_list())"
    },
    "r": {
     "delete_cmd_postfix": ") ",
     "delete_cmd_prefix": "rm(",
     "library": "var_list.r",
     "varRefreshCmd": "cat(var_dic_list()) "
    }
   },
   "types_to_exclude": [
    "module",
    "function",
    "builtin_function_or_method",
    "instance",
    "_Feature"
   ],
   "window_display": false
  }
 },
 "nbformat": 4,
 "nbformat_minor": 2
}
